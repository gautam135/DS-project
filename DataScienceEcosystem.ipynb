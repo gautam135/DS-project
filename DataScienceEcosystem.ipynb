{
 "cells": [
  {
   "cell_type": "markdown",
   "id": "9ed1b0ff-941a-4d81-8653-72d153076dbb",
   "metadata": {},
   "source": [
    "# Data Science Tools and Ecosytem"
   ]
  },
  {
   "cell_type": "markdown",
   "id": "58dc917f-f20d-4839-8a05-3dbf444c312f",
   "metadata": {},
   "source": [
    "## In this notebook, Data Science Tools and Ecosystem are summarized."
   ]
  },
  {
   "cell_type": "markdown",
   "id": "97e3ecd0-4a57-4f60-9cc6-9452a6480327",
   "metadata": {},
   "source": [
    "**Objectives**\n",
    "* Data Science Tools and Ecosystem\n",
    "* Some of the commonly used libraries used by Data Scientists\n",
    "* Some of the popular languages that Data Scientists use"
   ]
  },
  {
   "attachments": {},
   "cell_type": "markdown",
   "id": "0d6e2630-3d18-4f75-b12f-25d4c5a11729",
   "metadata": {},
   "source": [
    "### Some of the popular languages that Data Scientists use are :\n",
    "1. Python\n",
    "2. R\n",
    "3. SQL"
   ]
  },
  {
   "cell_type": "markdown",
   "id": "240142aa-e938-414c-8a37-06e8eb3d658b",
   "metadata": {},
   "source": [
    "### Some of the commonly used libraries by data Scientists include :"
   ]
  },
  {
   "cell_type": "markdown",
   "id": "962fd373-6dd6-4677-be32-7315beb02768",
   "metadata": {},
   "source": [
    "| Data Science Tools |\n",
    "----------------------\n",
    "| Jupyter Lab |\n",
    "| RStudio |\n",
    "| Apache Spark |"
   ]
  },
  {
   "cell_type": "markdown",
   "id": "14758489-1267-4a2d-9a97-318f1e401d8c",
   "metadata": {},
   "source": [
    "### Below are a few examples of evaluating arithmetic expressions in Python"
   ]
  },
  {
   "cell_type": "code",
   "execution_count": 6,
   "id": "d3404b7c-104e-4c11-9520-f482b5d7ad65",
   "metadata": {},
   "outputs": [
    {
     "data": {
      "text/plain": [
       "17"
      ]
     },
     "execution_count": 6,
     "metadata": {},
     "output_type": "execute_result"
    }
   ],
   "source": [
    "# This is a simple arithmetic expression to multiply then add integers\n",
    "(3*4)+5"
   ]
  },
  {
   "cell_type": "code",
   "execution_count": 7,
   "id": "91281574-1dc3-4ce2-b2d9-1b5f234ffaa8",
   "metadata": {},
   "outputs": [
    {
     "data": {
      "text/plain": [
       "3.3333333333333335"
      ]
     },
     "execution_count": 7,
     "metadata": {},
     "output_type": "execute_result"
    }
   ],
   "source": [
    "# This will convert 200 minutes to hour by dividing by 60\n",
    "200/60"
   ]
  },
  {
   "cell_type": "markdown",
   "id": "ad0e0d86-e5c2-4027-ba52-8adf7d63fce8",
   "metadata": {},
   "source": [
    "## Author\n",
    "Bhupendra"
   ]
  }
 ],
 "metadata": {
  "kernelspec": {
   "display_name": "Python 3 (ipykernel)",
   "language": "python",
   "name": "python3"
  },
  "language_info": {
   "codemirror_mode": {
    "name": "ipython",
    "version": 3
   },
   "file_extension": ".py",
   "mimetype": "text/x-python",
   "name": "python",
   "nbconvert_exporter": "python",
   "pygments_lexer": "ipython3",
   "version": "3.11.7"
  }
 },
 "nbformat": 4,
 "nbformat_minor": 5
}
